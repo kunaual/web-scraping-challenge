{
 "cells": [
  {
   "cell_type": "code",
   "execution_count": 63,
   "metadata": {},
   "outputs": [],
   "source": [
    "from splinter import Browser\n",
    "from bs4 import BeautifulSoup\n",
    "from webdriver_manager.chrome import ChromeDriverManager\n",
    "import pandas as pd"
   ]
  },
  {
   "cell_type": "code",
   "execution_count": 37,
   "metadata": {},
   "outputs": [
    {
     "name": "stderr",
     "output_type": "stream",
     "text": [
      "[WDM] - ====== WebDriver manager ======\n",
      "[WDM] - Current google-chrome version is 89.0.4389\n",
      "[WDM] - Get LATEST driver version for 89.0.4389\n"
     ]
    },
    {
     "name": "stdout",
     "output_type": "stream",
     "text": [
      "\n",
      "\n"
     ]
    },
    {
     "name": "stderr",
     "output_type": "stream",
     "text": [
      "[WDM] - Driver [C:\\Users\\kunaual\\.wdm\\drivers\\chromedriver\\win32\\89.0.4389.23\\chromedriver.exe] found in cache\n"
     ]
    }
   ],
   "source": [
    "executable_path = {'executable_path': ChromeDriverManager().install()}\n",
    "browser = Browser('chrome', **executable_path, headless=False)"
   ]
  },
  {
   "cell_type": "markdown",
   "metadata": {},
   "source": [
    "## Get article titles and teaser text "
   ]
  },
  {
   "cell_type": "code",
   "execution_count": 3,
   "metadata": {},
   "outputs": [],
   "source": [
    "url = 'https://redplanetscience.com/'\n",
    "browser.visit(url)"
   ]
  },
  {
   "cell_type": "code",
   "execution_count": 30,
   "metadata": {},
   "outputs": [],
   "source": [
    "html = browser.html  #get all the html\n",
    "soup = BeautifulSoup(html, 'html.parser')\n",
    "\n",
    "#testing output, see what to get\n",
    "#print(soup.prettify())\n",
    " \n",
    "\n",
    "titles=[]\n",
    "teaser_texts=[]\n",
    "\n",
    "divs = soup.find_all('div')\n",
    "for div in divs:\n",
    "    #print(div['class'][0])  #this will get you content_title and article_teaser_body\n",
    "    if div['class'][0]=='content_title':\n",
    "        #print(div.text)\n",
    "        titles.append(div.text)\n",
    "    if div['class'][0]=='article_teaser_body':\n",
    "        #print(div.text)\n",
    "        teaser_texts.append(div.text)\n",
    "\n",
    "\n",
    "\n",
    "#titles = soup.find_all('h3')\n",
    "#solution finds h3, as above \n",
    "#then does link=title.find('a')\n",
    "#then href=link['href']\n",
    "#then title=link['title']\n",
    "# for title in titles:\n",
    "#     print(f\"Page:{x} ----------------\")\n",
    "#     print(title.a['title'])\n",
    "#     print(title.a['href'])"
   ]
  },
  {
   "cell_type": "code",
   "execution_count": 34,
   "metadata": {},
   "outputs": [],
   "source": []
  },
  {
   "cell_type": "markdown",
   "metadata": {},
   "source": [
    "## Get featured image url"
   ]
  },
  {
   "cell_type": "code",
   "execution_count": 38,
   "metadata": {},
   "outputs": [],
   "source": [
    "iurl = 'https://spaceimages-mars.com/'\n",
    "browser.visit(iurl)"
   ]
  },
  {
   "cell_type": "code",
   "execution_count": 61,
   "metadata": {},
   "outputs": [],
   "source": [
    "ihtml = browser.html\n",
    "isoup = BeautifulSoup(ihtml, 'html.parser')\n",
    "\n",
    "#checkout html output, looking for featured image \n",
    "#print(isoup.prettify())\n",
    "\n",
    "# looking for this src:\n",
    "# <img class=\"headerimage fade-in\" src=\"image/featured/mars1.jpg\">\n",
    "\n",
    "imgs = isoup.find_all('img')\n",
    "for img in imgs:\n",
    "    #print(img) #testing message\n",
    "    try:\n",
    "        if img['class'][0]=='headerimage':\n",
    "            #print(img['src'])  #testing message\n",
    "            featured_image_file = img['src']\n",
    "            break   #header image will be towards the top, once found don't need to continue the loop\n",
    "    except:  #if there's no class, continue to the next one\n",
    "        continue\n",
    "\n",
    "#concat the url to the image location\n",
    "featured_image_url = iurl+featured_image_file"
   ]
  },
  {
   "cell_type": "code",
   "execution_count": 62,
   "metadata": {},
   "outputs": [
    {
     "data": {
      "text/plain": [
       "'https://spaceimages-mars.com/image/featured/mars2.jpg'"
      ]
     },
     "execution_count": 62,
     "metadata": {},
     "output_type": "execute_result"
    }
   ],
   "source": [
    "#check the url value\n",
    "featured_image_url"
   ]
  },
  {
   "cell_type": "markdown",
   "metadata": {},
   "source": [
    "## Get Mars facts"
   ]
  },
  {
   "cell_type": "code",
   "execution_count": 65,
   "metadata": {},
   "outputs": [],
   "source": [
    "turl = 'https://galaxyfacts-mars.com/'"
   ]
  },
  {
   "cell_type": "code",
   "execution_count": 67,
   "metadata": {},
   "outputs": [
    {
     "data": {
      "text/plain": [
       "2"
      ]
     },
     "execution_count": 67,
     "metadata": {},
     "output_type": "execute_result"
    }
   ],
   "source": [
    "tables = pd.read_html(turl)\n",
    "len(tables)"
   ]
  },
  {
   "cell_type": "code",
   "execution_count": null,
   "metadata": {},
   "outputs": [],
   "source": []
  },
  {
   "cell_type": "code",
   "execution_count": null,
   "metadata": {},
   "outputs": [],
   "source": [
    "browser.quit()"
   ]
  }
 ],
 "metadata": {
  "kernelspec": {
   "display_name": "Python 3",
   "language": "python",
   "name": "python3"
  },
  "language_info": {
   "codemirror_mode": {
    "name": "ipython",
    "version": 3
   },
   "file_extension": ".py",
   "mimetype": "text/x-python",
   "name": "python",
   "nbconvert_exporter": "python",
   "pygments_lexer": "ipython3",
   "version": "3.6.10"
  }
 },
 "nbformat": 4,
 "nbformat_minor": 4
}
