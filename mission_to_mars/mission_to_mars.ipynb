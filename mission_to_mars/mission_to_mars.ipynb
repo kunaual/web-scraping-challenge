{
 "cells": [
  {
   "cell_type": "code",
   "execution_count": 63,
   "metadata": {},
   "outputs": [],
   "source": [
    "from splinter import Browser\n",
    "from bs4 import BeautifulSoup\n",
    "from webdriver_manager.chrome import ChromeDriverManager\n",
    "import pandas as pd"
   ]
  },
  {
   "cell_type": "code",
   "execution_count": 37,
   "metadata": {},
   "outputs": [
    {
     "name": "stderr",
     "output_type": "stream",
     "text": [
      "[WDM] - ====== WebDriver manager ======\n",
      "[WDM] - Current google-chrome version is 89.0.4389\n",
      "[WDM] - Get LATEST driver version for 89.0.4389\n"
     ]
    },
    {
     "name": "stdout",
     "output_type": "stream",
     "text": [
      "\n",
      "\n"
     ]
    },
    {
     "name": "stderr",
     "output_type": "stream",
     "text": [
      "[WDM] - Driver [C:\\Users\\kunaual\\.wdm\\drivers\\chromedriver\\win32\\89.0.4389.23\\chromedriver.exe] found in cache\n"
     ]
    }
   ],
   "source": [
    "executable_path = {'executable_path': ChromeDriverManager().install()}\n",
    "browser = Browser('chrome', **executable_path, headless=False)"
   ]
  },
  {
   "cell_type": "markdown",
   "metadata": {},
   "source": [
    "## Get article titles and teaser text "
   ]
  },
  {
   "cell_type": "code",
   "execution_count": 3,
   "metadata": {},
   "outputs": [],
   "source": [
    "url = 'https://redplanetscience.com/'\n",
    "browser.visit(url)"
   ]
  },
  {
   "cell_type": "code",
   "execution_count": 30,
   "metadata": {},
   "outputs": [],
   "source": [
    "html = browser.html  #get all the html\n",
    "soup = BeautifulSoup(html, 'html.parser')\n",
    "\n",
    "#testing output, see what to get\n",
    "#print(soup.prettify())\n",
    " \n",
    "\n",
    "titles=[]\n",
    "teaser_texts=[]\n",
    "\n",
    "divs = soup.find_all('div')\n",
    "for div in divs:\n",
    "    #print(div['class'][0])  #this will get you content_title and article_teaser_body\n",
    "    if div['class'][0]=='content_title':\n",
    "        #print(div.text)\n",
    "        titles.append(div.text)\n",
    "    if div['class'][0]=='article_teaser_body':\n",
    "        #print(div.text)\n",
    "        teaser_texts.append(div.text)\n",
    "\n"
   ]
  },
  {
   "cell_type": "code",
   "execution_count": 34,
   "metadata": {},
   "outputs": [],
   "source": []
  },
  {
   "cell_type": "markdown",
   "metadata": {},
   "source": [
    "## Get featured image url"
   ]
  },
  {
   "cell_type": "code",
   "execution_count": 38,
   "metadata": {},
   "outputs": [],
   "source": [
    "iurl = 'https://spaceimages-mars.com/'\n",
    "browser.visit(iurl)"
   ]
  },
  {
   "cell_type": "code",
   "execution_count": 61,
   "metadata": {},
   "outputs": [],
   "source": [
    "ihtml = browser.html\n",
    "isoup = BeautifulSoup(ihtml, 'html.parser')\n",
    "\n",
    "#checkout html output, looking for featured image \n",
    "#print(isoup.prettify())\n",
    "\n",
    "# looking for this src:\n",
    "# <img class=\"headerimage fade-in\" src=\"image/featured/mars1.jpg\">\n",
    "\n",
    "imgs = isoup.find_all('img')\n",
    "for img in imgs:\n",
    "    #print(img) #testing message\n",
    "    try:\n",
    "        if img['class'][0]=='headerimage':\n",
    "            #print(img['src'])  #testing message\n",
    "            featured_image_file = img['src']\n",
    "            break   #header image will be towards the top, once found don't need to continue the loop\n",
    "    except:  #if there's no class, continue to the next one\n",
    "        continue\n",
    "\n",
    "#concat the url to the image location\n",
    "featured_image_url = iurl+featured_image_file"
   ]
  },
  {
   "cell_type": "code",
   "execution_count": 62,
   "metadata": {},
   "outputs": [
    {
     "data": {
      "text/plain": [
       "'https://spaceimages-mars.com/image/featured/mars2.jpg'"
      ]
     },
     "execution_count": 62,
     "metadata": {},
     "output_type": "execute_result"
    }
   ],
   "source": [
    "#check the url value\n",
    "featured_image_url"
   ]
  },
  {
   "cell_type": "markdown",
   "metadata": {},
   "source": [
    "## Get Mars facts"
   ]
  },
  {
   "cell_type": "code",
   "execution_count": 65,
   "metadata": {},
   "outputs": [],
   "source": [
    "turl = 'https://galaxyfacts-mars.com/'"
   ]
  },
  {
   "cell_type": "code",
   "execution_count": 72,
   "metadata": {},
   "outputs": [
    {
     "data": {
      "text/html": [
       "<div>\n",
       "<style scoped>\n",
       "    .dataframe tbody tr th:only-of-type {\n",
       "        vertical-align: middle;\n",
       "    }\n",
       "\n",
       "    .dataframe tbody tr th {\n",
       "        vertical-align: top;\n",
       "    }\n",
       "\n",
       "    .dataframe thead th {\n",
       "        text-align: right;\n",
       "    }\n",
       "</style>\n",
       "<table border=\"1\" class=\"dataframe\">\n",
       "  <thead>\n",
       "    <tr style=\"text-align: right;\">\n",
       "      <th></th>\n",
       "      <th>0</th>\n",
       "      <th>1</th>\n",
       "    </tr>\n",
       "  </thead>\n",
       "  <tbody>\n",
       "    <tr>\n",
       "      <th>0</th>\n",
       "      <td>Equatorial Diameter:</td>\n",
       "      <td>6,792 km</td>\n",
       "    </tr>\n",
       "    <tr>\n",
       "      <th>1</th>\n",
       "      <td>Polar Diameter:</td>\n",
       "      <td>6,752 km</td>\n",
       "    </tr>\n",
       "    <tr>\n",
       "      <th>2</th>\n",
       "      <td>Mass:</td>\n",
       "      <td>6.39 × 10^23 kg (0.11 Earths)</td>\n",
       "    </tr>\n",
       "    <tr>\n",
       "      <th>3</th>\n",
       "      <td>Moons:</td>\n",
       "      <td>2 ( Phobos &amp; Deimos )</td>\n",
       "    </tr>\n",
       "    <tr>\n",
       "      <th>4</th>\n",
       "      <td>Orbit Distance:</td>\n",
       "      <td>227,943,824 km (1.38 AU)</td>\n",
       "    </tr>\n",
       "    <tr>\n",
       "      <th>5</th>\n",
       "      <td>Orbit Period:</td>\n",
       "      <td>687 days (1.9 years)</td>\n",
       "    </tr>\n",
       "    <tr>\n",
       "      <th>6</th>\n",
       "      <td>Surface Temperature:</td>\n",
       "      <td>-87 to -5 °C</td>\n",
       "    </tr>\n",
       "    <tr>\n",
       "      <th>7</th>\n",
       "      <td>First Record:</td>\n",
       "      <td>2nd millennium BC</td>\n",
       "    </tr>\n",
       "    <tr>\n",
       "      <th>8</th>\n",
       "      <td>Recorded By:</td>\n",
       "      <td>Egyptian astronomers</td>\n",
       "    </tr>\n",
       "  </tbody>\n",
       "</table>\n",
       "</div>"
      ],
      "text/plain": [
       "                      0                              1\n",
       "0  Equatorial Diameter:                       6,792 km\n",
       "1       Polar Diameter:                       6,752 km\n",
       "2                 Mass:  6.39 × 10^23 kg (0.11 Earths)\n",
       "3                Moons:          2 ( Phobos & Deimos )\n",
       "4       Orbit Distance:       227,943,824 km (1.38 AU)\n",
       "5         Orbit Period:           687 days (1.9 years)\n",
       "6  Surface Temperature:                   -87 to -5 °C\n",
       "7         First Record:              2nd millennium BC\n",
       "8          Recorded By:           Egyptian astronomers"
      ]
     },
     "execution_count": 72,
     "metadata": {},
     "output_type": "execute_result"
    }
   ],
   "source": [
    "tables = pd.read_html(turl)\n",
    "tables[1]"
   ]
  },
  {
   "cell_type": "code",
   "execution_count": 100,
   "metadata": {},
   "outputs": [],
   "source": [
    "mars_earth_df = tables[0]\n",
    "mars_facts_df = tables[1]"
   ]
  },
  {
   "cell_type": "code",
   "execution_count": 101,
   "metadata": {},
   "outputs": [],
   "source": [
    "mars_facts_df.rename(columns={0:\"FACT_DESC\",1:\"FACT_VALUE\"}, inplace=True)"
   ]
  },
  {
   "cell_type": "code",
   "execution_count": 102,
   "metadata": {},
   "outputs": [
    {
     "data": {
      "text/html": [
       "<div>\n",
       "<style scoped>\n",
       "    .dataframe tbody tr th:only-of-type {\n",
       "        vertical-align: middle;\n",
       "    }\n",
       "\n",
       "    .dataframe tbody tr th {\n",
       "        vertical-align: top;\n",
       "    }\n",
       "\n",
       "    .dataframe thead th {\n",
       "        text-align: right;\n",
       "    }\n",
       "</style>\n",
       "<table border=\"1\" class=\"dataframe\">\n",
       "  <thead>\n",
       "    <tr style=\"text-align: right;\">\n",
       "      <th></th>\n",
       "      <th>ATTRIBUTE</th>\n",
       "      <th>MARS</th>\n",
       "      <th>EARTH</th>\n",
       "    </tr>\n",
       "  </thead>\n",
       "  <tbody>\n",
       "    <tr>\n",
       "      <th>0</th>\n",
       "      <td>Mars - Earth Comparison</td>\n",
       "      <td>Mars</td>\n",
       "      <td>Earth</td>\n",
       "    </tr>\n",
       "    <tr>\n",
       "      <th>1</th>\n",
       "      <td>Diameter:</td>\n",
       "      <td>6,779 km</td>\n",
       "      <td>12,742 km</td>\n",
       "    </tr>\n",
       "    <tr>\n",
       "      <th>2</th>\n",
       "      <td>Mass:</td>\n",
       "      <td>6.39 × 10^23 kg</td>\n",
       "      <td>5.97 × 10^24 kg</td>\n",
       "    </tr>\n",
       "    <tr>\n",
       "      <th>3</th>\n",
       "      <td>Moons:</td>\n",
       "      <td>2</td>\n",
       "      <td>1</td>\n",
       "    </tr>\n",
       "    <tr>\n",
       "      <th>4</th>\n",
       "      <td>Distance from Sun:</td>\n",
       "      <td>227,943,824 km</td>\n",
       "      <td>149,598,262 km</td>\n",
       "    </tr>\n",
       "    <tr>\n",
       "      <th>5</th>\n",
       "      <td>Length of Year:</td>\n",
       "      <td>687 Earth days</td>\n",
       "      <td>365.24 days</td>\n",
       "    </tr>\n",
       "    <tr>\n",
       "      <th>6</th>\n",
       "      <td>Temperature:</td>\n",
       "      <td>-87 to -5 °C</td>\n",
       "      <td>-88 to 58°C</td>\n",
       "    </tr>\n",
       "  </tbody>\n",
       "</table>\n",
       "</div>"
      ],
      "text/plain": [
       "                 ATTRIBUTE             MARS            EARTH\n",
       "0  Mars - Earth Comparison             Mars            Earth\n",
       "1                Diameter:         6,779 km        12,742 km\n",
       "2                    Mass:  6.39 × 10^23 kg  5.97 × 10^24 kg\n",
       "3                   Moons:                2                1\n",
       "4       Distance from Sun:   227,943,824 km   149,598,262 km\n",
       "5          Length of Year:   687 Earth days      365.24 days\n",
       "6             Temperature:     -87 to -5 °C      -88 to 58°C"
      ]
     },
     "execution_count": 102,
     "metadata": {},
     "output_type": "execute_result"
    }
   ],
   "source": [
    "mars_earth_df.rename(columns={0:\"ATTRIBUTE\",1:\"MARS\",2:\"EARTH\"}, inplace=True)\n",
    "mars_earth_df"
   ]
  },
  {
   "cell_type": "code",
   "execution_count": 104,
   "metadata": {},
   "outputs": [
    {
     "data": {
      "text/html": [
       "<div>\n",
       "<style scoped>\n",
       "    .dataframe tbody tr th:only-of-type {\n",
       "        vertical-align: middle;\n",
       "    }\n",
       "\n",
       "    .dataframe tbody tr th {\n",
       "        vertical-align: top;\n",
       "    }\n",
       "\n",
       "    .dataframe thead th {\n",
       "        text-align: right;\n",
       "    }\n",
       "</style>\n",
       "<table border=\"1\" class=\"dataframe\">\n",
       "  <thead>\n",
       "    <tr style=\"text-align: right;\">\n",
       "      <th></th>\n",
       "      <th>ATTRIBUTE</th>\n",
       "      <th>MARS</th>\n",
       "      <th>EARTH</th>\n",
       "    </tr>\n",
       "  </thead>\n",
       "  <tbody>\n",
       "    <tr>\n",
       "      <th>1</th>\n",
       "      <td>Diameter:</td>\n",
       "      <td>6,779 km</td>\n",
       "      <td>12,742 km</td>\n",
       "    </tr>\n",
       "    <tr>\n",
       "      <th>2</th>\n",
       "      <td>Mass:</td>\n",
       "      <td>6.39 × 10^23 kg</td>\n",
       "      <td>5.97 × 10^24 kg</td>\n",
       "    </tr>\n",
       "    <tr>\n",
       "      <th>3</th>\n",
       "      <td>Moons:</td>\n",
       "      <td>2</td>\n",
       "      <td>1</td>\n",
       "    </tr>\n",
       "    <tr>\n",
       "      <th>4</th>\n",
       "      <td>Distance from Sun:</td>\n",
       "      <td>227,943,824 km</td>\n",
       "      <td>149,598,262 km</td>\n",
       "    </tr>\n",
       "    <tr>\n",
       "      <th>5</th>\n",
       "      <td>Length of Year:</td>\n",
       "      <td>687 Earth days</td>\n",
       "      <td>365.24 days</td>\n",
       "    </tr>\n",
       "    <tr>\n",
       "      <th>6</th>\n",
       "      <td>Temperature:</td>\n",
       "      <td>-87 to -5 °C</td>\n",
       "      <td>-88 to 58°C</td>\n",
       "    </tr>\n",
       "  </tbody>\n",
       "</table>\n",
       "</div>"
      ],
      "text/plain": [
       "            ATTRIBUTE             MARS            EARTH\n",
       "1           Diameter:         6,779 km        12,742 km\n",
       "2               Mass:  6.39 × 10^23 kg  5.97 × 10^24 kg\n",
       "3              Moons:                2                1\n",
       "4  Distance from Sun:   227,943,824 km   149,598,262 km\n",
       "5     Length of Year:   687 Earth days      365.24 days\n",
       "6        Temperature:     -87 to -5 °C      -88 to 58°C"
      ]
     },
     "execution_count": 104,
     "metadata": {},
     "output_type": "execute_result"
    }
   ],
   "source": [
    "#delete the 1st row which is more of a table header\n",
    "mars_earth_df =mars_earth_df.drop(0)  \n",
    "mars_earth_df  #not bothering to reindex because not keeping it in the html"
   ]
  },
  {
   "cell_type": "code",
   "execution_count": 106,
   "metadata": {},
   "outputs": [],
   "source": [
    "#push dfs to html files\n",
    "mars_earth_df.to_html('mars_earth_comp.html', index=False)\n",
    "mars_facts_df.to_html('mars_facts.html', index=False)"
   ]
  },
  {
   "cell_type": "markdown",
   "metadata": {},
   "source": [
    "## Get hemisphere info"
   ]
  },
  {
   "cell_type": "code",
   "execution_count": 182,
   "metadata": {},
   "outputs": [],
   "source": [
    "hurl = 'https://marshemispheres.com/'\n",
    "browser.visit(hurl)\n",
    "hemisphere_image_urls = []"
   ]
  },
  {
   "cell_type": "code",
   "execution_count": 183,
   "metadata": {},
   "outputs": [],
   "source": [
    "html = browser.html  #get all the html\n",
    "hsoup = BeautifulSoup(html, 'html.parser')"
   ]
  },
  {
   "cell_type": "code",
   "execution_count": 200,
   "metadata": {},
   "outputs": [
    {
     "data": {
      "text/plain": [
       "['cerberus.html', 'schiaparelli.html', 'syrtis.html', 'valles.html']"
      ]
     },
     "execution_count": 200,
     "metadata": {},
     "output_type": "execute_result"
    }
   ],
   "source": [
    "#need to get the list of 4 headers from main page and then loop through them clicking next.\n",
    "list_of_subpages = []\n",
    "\n",
    "a_itemlinks = hsoup.find_all('a', class_='itemLink')\n",
    "#h3s = hsoup.find_all('h3')\n",
    "for alink in a_itemlinks:\n",
    "    #print(alink['href']) #testing output\n",
    "    cur_href = alink['href']\n",
    "    if 'html' in cur_href:\n",
    "        #print('it does') #testing output\n",
    "        if cur_href not in list_of_subpages:\n",
    "            #print('add it!') #testing output\n",
    "            list_of_subpages.append(cur_href)\n",
    "\n",
    "list_of_subpages"
   ]
  },
  {
   "cell_type": "code",
   "execution_count": 201,
   "metadata": {},
   "outputs": [
    {
     "name": "stdout",
     "output_type": "stream",
     "text": [
      "https://marshemispheres.com/cerberus.html\n",
      "https://marshemispheres.com/schiaparelli.html\n",
      "https://marshemispheres.com/syrtis.html\n",
      "https://marshemispheres.com/valles.html\n"
     ]
    }
   ],
   "source": [
    "for page in list_of_subpages:\n",
    "    sub_url=hurl+page\n",
    "    print(sub_url)\n",
    "    \n",
    "    browser.visit(sub_url)\n",
    "    html = browser.html\n",
    "    soup = BeautifulSoup(html, 'html.parser')\n",
    "    \n",
    "    \n",
    "    \n",
    "    #browser.links.find_by_partial_text('Back').click()\n",
    "    "
   ]
  },
  {
   "cell_type": "code",
   "execution_count": 197,
   "metadata": {},
   "outputs": [
    {
     "name": "stdout",
     "output_type": "stream",
     "text": [
      "--------------------------------------------------------------\n",
      "cerberus.html\n",
      "it does\n",
      "add it!\n",
      "cerberus.html\n",
      "it does\n",
      "schiaparelli.html\n",
      "it does\n",
      "add it!\n",
      "schiaparelli.html\n",
      "it does\n",
      "syrtis.html\n",
      "it does\n",
      "add it!\n",
      "syrtis.html\n",
      "it does\n",
      "valles.html\n",
      "it does\n",
      "add it!\n",
      "valles.html\n",
      "it does\n",
      "#\n"
     ]
    }
   ],
   "source": [
    "#testing output, see what to get\n",
    "#print(hsoup.prettify())\n",
    "\n",
    "#print(a_itemlinks.find('img'))\n",
    "#img_info=a_itemlinks.find('img')\n",
    "\n",
    "#this is getting the thumbnail off the main page\n",
    "# hemis_dict = {}\n",
    "# hemis_dict['title'] = img_info['alt'].split(\" Enhanced\")[0]\n",
    "# hemis_dict['img_url'] = hurl+img_info['src']\n",
    "# img_info['alt'].split(\" Enhanced\")[0]  #title!  yes, there are other ways to get this. could take if off 1st page too\n",
    "# hurl+img_info['src']\n",
    "#browser.links.find_by_partial_text('Back').click()"
   ]
  },
  {
   "cell_type": "code",
   "execution_count": null,
   "metadata": {},
   "outputs": [],
   "source": []
  },
  {
   "cell_type": "code",
   "execution_count": 187,
   "metadata": {},
   "outputs": [
    {
     "data": {
      "text/plain": [
       "'Cerberus Hemisphere'"
      ]
     },
     "execution_count": 187,
     "metadata": {},
     "output_type": "execute_result"
    }
   ],
   "source": [
    "hemisphere_image_urls.append(hemis_dict)\n",
    "\n"
   ]
  },
  {
   "cell_type": "code",
   "execution_count": null,
   "metadata": {},
   "outputs": [],
   "source": []
  },
  {
   "cell_type": "code",
   "execution_count": null,
   "metadata": {},
   "outputs": [],
   "source": []
  },
  {
   "cell_type": "code",
   "execution_count": 179,
   "metadata": {},
   "outputs": [
    {
     "name": "stdout",
     "output_type": "stream",
     "text": [
      "<html lang=\"en\">\n",
      " <head>\n",
      "  <meta content=\"text/html; charset=utf-8\" http-equiv=\"Content-Type\"/>\n",
      "  <link href=\"css/jquery-ui.css\" rel=\"stylesheet\" type=\"text/css\"/>\n",
      "  <title>\n",
      "   Astropedia Search Results | GUSS Astrogeology Science Center\n",
      "  </title>\n",
      "  <meta content=\"GUSS Astrogeology Science Center Astropedia search results.\" name=\"description\"/>\n",
      "  <meta content=\"GUSS,Astrogeology Science Center,Cartography,Geology,Space,Geological Survey,Mapping\" name=\"keywords\"/>\n",
      "  <meta content=\"IE=edge\" http-equiv=\"X-UA-Compatible\"/>\n",
      "  <meta content=\"width=device-width, initial-scale=1, maximum-scale=1\" name=\"viewport\"/>\n",
      "  <link href=\"css/main.css\" media=\"screen\" rel=\"stylesheet\"/>\n",
      "  <link href=\"css/print.css\" media=\"print\" rel=\"stylesheet\"/>\n",
      "  <link href=\"#\" rel=\"icon\" type=\"image/x-ico\"/>\n",
      " </head>\n",
      " <body id=\"results\">\n",
      "  <header>\n",
      "   <a href=\"#\" style=\"float:right;margin-top:10px;\" target=\"_blank\">\n",
      "    <img alt=\"USGS: Science for a Changing World\" class=\"logo\" height=\"60\" src=\"images/usgs_logo_main_2x.png\"/>\n",
      "   </a>\n",
      "   <a href=\"#\" style=\"float:right;margin-top:5px;margin-right:20px;\" target=\"_blank\">\n",
      "    <img alt=\"NASA\" class=\"logo\" height=\"65\" src=\"images/nasa-logo-web-med.png\"/>\n",
      "   </a>\n",
      "  </header>\n",
      "  <div class=\"wrapper\">\n",
      "   <div class=\"container\">\n",
      "    <div class=\"widget block bar\">\n",
      "     <a href=\"https://astrogeology.usgs.gov/search\" style=\"float:right;text-decoration:none;\">\n",
      "      <img alt=\"Astropedia\" src=\"images/astropedia-logo-main.png\" style=\"width:200px;border:none;float:right;\"/>\n",
      "      <div style=\"clear:both;font-size:.8em;float:right;color:#888;\">\n",
      "       Lunar and Planetary Cartographic\n",
      "                        Catalog\n",
      "      </div>\n",
      "     </a>\n",
      "     <div style=\"float:left;height:60px;\">\n",
      "     </div>\n",
      "    </div>\n",
      "    <!--==============================================================-->\n",
      "    <div class=\"wide-image-wrapper\" id=\"wide-image\">\n",
      "     <div class=\"downloads\">\n",
      "      <img class=\"thumb\" src=\"images/08eac6e22c07fb1fe72223a79252de20_schiaparelli_enhanced.tif_thumb.png\"/>\n",
      "      <h3>\n",
      "       Download\n",
      "      </h3>\n",
      "      <ul>\n",
      "       <li>\n",
      "        <a href=\"images/schiaparelli_enhanced-full.jpg\" target=\"_blank\">\n",
      "         Sample\n",
      "        </a>\n",
      "        (jpg) 1024px wide\n",
      "       </li>\n",
      "       <li>\n",
      "        <a href=\"images/schiaparelli_enhanced.tif\" target=\"_blank\">\n",
      "         Original\n",
      "        </a>\n",
      "        (tif\n",
      "        <span class=\"tooltip word-tif\" title=\"\">\n",
      "        </span>\n",
      "        ) 35 MB\n",
      "       </li>\n",
      "      </ul>\n",
      "     </div>\n",
      "     <img class=\"wide-image\" src=\"images/3778f7b43bbbc89d6e3cfabb3613ba93_schiaparelli_enhanced.tif_full.jpg\"/>\n",
      "     <a class=\"open-toggle\" href=\"#open\" id=\"wide-image-toggle\">\n",
      "      Open\n",
      "     </a>\n",
      "    </div>\n",
      "    <div class=\"cover\">\n",
      "     <h2 class=\"title\">\n",
      "      Schiaparelli Hemisphere Enhanced\n",
      "     </h2>\n",
      "     <p>\n",
      "      Mosaic of the Schiaparelli hemisphere of Mars projected into point perspective, a view similar to that\n",
      "                which one would see from a spacecraft. The images were acquired in 1980 during early northern summer on\n",
      "                Mars. The center of this image is near the impact crater Schiaparelli (latitude -3, longitude 343) The\n",
      "                limits of this mosaic are approximately latitude -60 to 60 and longitude 260 to 30. The color variations\n",
      "                have been enhanced by a factor of two, and the large-scale brightness normalized by large-scale\n",
      "                filtering.\n",
      "     </p>\n",
      "     <!--  <div class=\"downloads\">\n",
      "                     <img class=\"thumb\" src=\"images/39d3266553462198bd2fbc4d18fbed17_cerberus_enhanced.tif_thumb.png\">\n",
      "                     <h3>Download</h3>\n",
      "                     <ul>\n",
      "                        <li><a target=\"_blank\" href=\"images/full.jpg\">Sample</a> (jpg) 1024px wide</li>\n",
      "                        <li><a target=\"_blank\" href=\"images/cerberus_enhanced.tif\">Original</a> (tif<span class=\"tooltip word-tif\" title=\"\"></span>) 21 MB</li>\n",
      "                     </ul>\n",
      "                  </div> -->\n",
      "     <div class=\"description\">\n",
      "      <dl>\n",
      "       <dt>\n",
      "        Mimetype\n",
      "       </dt>\n",
      "       <dd>\n",
      "        image/tiff\n",
      "       </dd>\n",
      "       <dt>\n",
      "        Filename\n",
      "       </dt>\n",
      "       <dd>\n",
      "        <a href=\"images/schiaparelli_enhanced.tif\">\n",
      "         schiaparelli_enhanced.tif\n",
      "         <span class=\"tooltip word-tif\" title=\"\">\n",
      "         </span>\n",
      "        </a>\n",
      "       </dd>\n",
      "       <dt>\n",
      "        Originator\n",
      "       </dt>\n",
      "       <dd>\n",
      "       </dd>\n",
      "       <dt>\n",
      "        Group\n",
      "       </dt>\n",
      "       <dd>\n",
      "       </dd>\n",
      "       <dt>\n",
      "        Added to Astropedia\n",
      "       </dt>\n",
      "       <dd>\n",
      "        29 September 2011\n",
      "       </dd>\n",
      "       <dt>\n",
      "        Modified\n",
      "       </dt>\n",
      "       <dd>\n",
      "        3 November 2017\n",
      "       </dd>\n",
      "      </dl>\n",
      "     </div>\n",
      "    </div>\n",
      "    <!--==============================================================-->\n",
      "    <div class=\"navigation clear\">\n",
      "     <a class=\"itemLink product-item\" href=\"index.html\">\n",
      "      <h3>\n",
      "       Back\n",
      "      </h3>\n",
      "     </a>\n",
      "    </div>\n",
      "   </div>\n",
      "   <footer>\n",
      "    <div class=\"left\">\n",
      "     <a href=\"#\">\n",
      "      Search\n",
      "     </a>\n",
      "     |\n",
      "     <a href=\"#\">\n",
      "      About\n",
      "     </a>\n",
      "     |\n",
      "     <a href=\"#\">\n",
      "      Contact\n",
      "     </a>\n",
      "    </div>\n",
      "    <div class=\"right\">\n",
      "     <a href=\"#\">\n",
      "      GUSS Science Center\n",
      "     </a>\n",
      "    </div>\n",
      "   </footer>\n",
      "  </div>\n",
      "  <div class=\"page-background\" style=\"\n",
      "         background:url('./images/mars.jpg');\n",
      "         filter:progid:DXImageTransform.Microsoft.AlphaImageLoader(\n",
      "         src='./images/mars.jpg', sizingMethod='scale');\n",
      "         \">\n",
      "  </div>\n",
      "  <script type=\"text/javascript\">\n",
      "   var baseUrl = \"\";\n",
      "  </script>\n",
      "  <script src=\"js/jquery.min.js\" type=\"text/javascript\">\n",
      "  </script>\n",
      "  <script src=\"js/jquery-ui.min.js\" type=\"text/javascript\">\n",
      "  </script>\n",
      "  <script src=\"js/general.js\" type=\"text/javascript\">\n",
      "  </script>\n",
      "  <script src=\"js/app.js\" type=\"text/javascript\">\n",
      "  </script>\n",
      " </body>\n",
      "</html>\n",
      "--------------------------------------------------------------\n",
      "None\n"
     ]
    },
    {
     "ename": "TypeError",
     "evalue": "'NoneType' object is not subscriptable",
     "output_type": "error",
     "traceback": [
      "\u001b[1;31m---------------------------------------------------------------------------\u001b[0m",
      "\u001b[1;31mTypeError\u001b[0m                                 Traceback (most recent call last)",
      "\u001b[1;32m<ipython-input-179-759f7eb9b269>\u001b[0m in \u001b[0;36m<module>\u001b[1;34m\u001b[0m\n\u001b[0;32m     11\u001b[0m     \u001b[0mprint\u001b[0m\u001b[1;33m(\u001b[0m\u001b[0ma_itemlinks\u001b[0m\u001b[1;33m.\u001b[0m\u001b[0mfind\u001b[0m\u001b[1;33m(\u001b[0m\u001b[1;34m'img'\u001b[0m\u001b[1;33m)\u001b[0m\u001b[1;33m)\u001b[0m\u001b[1;33m\u001b[0m\u001b[1;33m\u001b[0m\u001b[0m\n\u001b[0;32m     12\u001b[0m     \u001b[0mimg_info\u001b[0m\u001b[1;33m=\u001b[0m\u001b[0ma_itemlinks\u001b[0m\u001b[1;33m.\u001b[0m\u001b[0mfind\u001b[0m\u001b[1;33m(\u001b[0m\u001b[1;34m'img'\u001b[0m\u001b[1;33m)\u001b[0m\u001b[1;33m\u001b[0m\u001b[1;33m\u001b[0m\u001b[0m\n\u001b[1;32m---> 13\u001b[1;33m     \u001b[0mprint\u001b[0m\u001b[1;33m(\u001b[0m\u001b[1;34m'fucking'\u001b[0m\u001b[1;33m+\u001b[0m\u001b[0mimg_info\u001b[0m\u001b[1;33m[\u001b[0m\u001b[1;34m'alt'\u001b[0m\u001b[1;33m]\u001b[0m\u001b[1;33m)\u001b[0m\u001b[1;33m\u001b[0m\u001b[1;33m\u001b[0m\u001b[0m\n\u001b[0m\u001b[0;32m     14\u001b[0m     \u001b[0mhemis_dict\u001b[0m \u001b[1;33m=\u001b[0m \u001b[1;33m{\u001b[0m\u001b[1;33m}\u001b[0m\u001b[1;33m\u001b[0m\u001b[1;33m\u001b[0m\u001b[0m\n\u001b[0;32m     15\u001b[0m     \u001b[0mhemis_dict\u001b[0m\u001b[1;33m[\u001b[0m\u001b[1;34m'title'\u001b[0m\u001b[1;33m]\u001b[0m \u001b[1;33m=\u001b[0m \u001b[0mimg_info\u001b[0m\u001b[1;33m[\u001b[0m\u001b[1;34m'alt'\u001b[0m\u001b[1;33m]\u001b[0m\u001b[1;33m.\u001b[0m\u001b[0msplit\u001b[0m\u001b[1;33m(\u001b[0m\u001b[1;34m\" Enhanced\"\u001b[0m\u001b[1;33m)\u001b[0m\u001b[1;33m[\u001b[0m\u001b[1;36m0\u001b[0m\u001b[1;33m]\u001b[0m\u001b[1;33m\u001b[0m\u001b[1;33m\u001b[0m\u001b[0m\n",
      "\u001b[1;31mTypeError\u001b[0m: 'NoneType' object is not subscriptable"
     ]
    }
   ],
   "source": [
    "for x in range(1):\n",
    "    #browser.links.find_by_partial_text('Hemisphere').click()  #partial text needs to be a variable from loop\n",
    "    browser.links.find_by_partial_text('Schiaparelli').click() \n",
    "    lhtml = browser.html  #get all the html\n",
    "    lsoup = BeautifulSoup(lhtml, 'html.parser')\n",
    "    #testing output, see what to get\n",
    "    print(lsoup.prettify())\n",
    "    print('--------------------------------------------------------------')\n",
    "    a_itemlinks = lsoup.find('a', class_='itemLink')\n",
    "    #h3s = hsoup.find_all('h3')\n",
    "    print(a_itemlinks.find('img'))\n",
    "    img_info=a_itemlinks.find('img')\n",
    "    print('fucking'+img_info['alt'])\n",
    "    hemis_dict = {}\n",
    "    hemis_dict['title'] = img_info['alt'].split(\" Enhanced\")[0]\n",
    "    hemis_dict['img_url'] = hurl+img_info['src']\n",
    "    #img_info['alt'].split(\" Enhanced\")[0]  #title!  yes, there are other ways to get this. could take if off 1st page too\n",
    "    #hurl+img_info['src']\n",
    "    hemisphere_image_urls.append(hemis_dict)\n",
    "    \n",
    "    \n",
    "    #browser.links.find_by_partial_text('Back').click() "
   ]
  },
  {
   "cell_type": "code",
   "execution_count": 181,
   "metadata": {},
   "outputs": [
    {
     "ename": "TypeError",
     "evalue": "'NoneType' object is not subscriptable",
     "output_type": "error",
     "traceback": [
      "\u001b[1;31m---------------------------------------------------------------------------\u001b[0m",
      "\u001b[1;31mTypeError\u001b[0m                                 Traceback (most recent call last)",
      "\u001b[1;32m<ipython-input-181-ce344f6dfb3a>\u001b[0m in \u001b[0;36m<module>\u001b[1;34m\u001b[0m\n\u001b[0;32m      1\u001b[0m \u001b[0mhemis_dict\u001b[0m \u001b[1;33m=\u001b[0m \u001b[1;33m{\u001b[0m\u001b[1;33m}\u001b[0m\u001b[1;33m\u001b[0m\u001b[1;33m\u001b[0m\u001b[0m\n\u001b[1;32m----> 2\u001b[1;33m \u001b[0mhemis_dict\u001b[0m\u001b[1;33m[\u001b[0m\u001b[1;34m'title'\u001b[0m\u001b[1;33m]\u001b[0m \u001b[1;33m=\u001b[0m \u001b[0mimg_info\u001b[0m\u001b[1;33m[\u001b[0m\u001b[1;34m'alt'\u001b[0m\u001b[1;33m]\u001b[0m\u001b[1;33m.\u001b[0m\u001b[0msplit\u001b[0m\u001b[1;33m(\u001b[0m\u001b[1;34m\" Enhanced\"\u001b[0m\u001b[1;33m)\u001b[0m\u001b[1;33m[\u001b[0m\u001b[1;36m0\u001b[0m\u001b[1;33m]\u001b[0m\u001b[1;33m\u001b[0m\u001b[1;33m\u001b[0m\u001b[0m\n\u001b[0m\u001b[0;32m      3\u001b[0m \u001b[0mhemis_dict\u001b[0m\u001b[1;33m[\u001b[0m\u001b[1;34m'img_url'\u001b[0m\u001b[1;33m]\u001b[0m \u001b[1;33m=\u001b[0m \u001b[0mhurl\u001b[0m\u001b[1;33m+\u001b[0m\u001b[0mimg_info\u001b[0m\u001b[1;33m[\u001b[0m\u001b[1;34m'src'\u001b[0m\u001b[1;33m]\u001b[0m\u001b[1;33m\u001b[0m\u001b[1;33m\u001b[0m\u001b[0m\n\u001b[0;32m      4\u001b[0m \u001b[1;31m#img_info['alt'].split(\" Enhanced\")[0]  #title!  yes, there are other ways to get this. could take if off 1st page too\u001b[0m\u001b[1;33m\u001b[0m\u001b[1;33m\u001b[0m\u001b[1;33m\u001b[0m\u001b[0m\n\u001b[0;32m      5\u001b[0m \u001b[1;31m#hurl+img_info['src']\u001b[0m\u001b[1;33m\u001b[0m\u001b[1;33m\u001b[0m\u001b[1;33m\u001b[0m\u001b[0m\n",
      "\u001b[1;31mTypeError\u001b[0m: 'NoneType' object is not subscriptable"
     ]
    }
   ],
   "source": [
    "hemis_dict = {}\n",
    "hemis_dict['title'] = img_info['alt'].split(\" Enhanced\")[0]\n",
    "hemis_dict['img_url'] = hurl+img_info['src']\n",
    "#img_info['alt'].split(\" Enhanced\")[0]  #title!  yes, there are other ways to get this. could take if off 1st page too\n",
    "#hurl+img_info['src']\n",
    "hemisphere_image_urls.append(hemis_dict)"
   ]
  },
  {
   "cell_type": "code",
   "execution_count": 180,
   "metadata": {},
   "outputs": [
    {
     "data": {
      "text/plain": [
       "[]"
      ]
     },
     "execution_count": 180,
     "metadata": {},
     "output_type": "execute_result"
    }
   ],
   "source": [
    "hemis_dict\n",
    "hemisphere_image_urls"
   ]
  },
  {
   "cell_type": "code",
   "execution_count": null,
   "metadata": {},
   "outputs": [],
   "source": [
    "try:\n",
    "    for title_url in titles_and_urls:\n",
    "        browser.links.find_by_partial_text('next').click()\n",
    "except ElementDoesNotExist:\n",
    "    print(\"Scraping Complete\")"
   ]
  },
  {
   "cell_type": "code",
   "execution_count": null,
   "metadata": {},
   "outputs": [],
   "source": []
  },
  {
   "cell_type": "code",
   "execution_count": null,
   "metadata": {},
   "outputs": [],
   "source": [
    "browser.quit()"
   ]
  }
 ],
 "metadata": {
  "kernelspec": {
   "display_name": "Python 3",
   "language": "python",
   "name": "python3"
  },
  "language_info": {
   "codemirror_mode": {
    "name": "ipython",
    "version": 3
   },
   "file_extension": ".py",
   "mimetype": "text/x-python",
   "name": "python",
   "nbconvert_exporter": "python",
   "pygments_lexer": "ipython3",
   "version": "3.6.10"
  }
 },
 "nbformat": 4,
 "nbformat_minor": 4
}
